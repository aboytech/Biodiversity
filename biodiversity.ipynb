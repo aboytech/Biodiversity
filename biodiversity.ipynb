{
 "cells": [
  {
   "cell_type": "markdown",
   "metadata": {},
   "source": [
    "# Biodiversity Dataset"
   ]
  },
  {
   "cell_type": "code",
   "execution_count": 36,
   "metadata": {},
   "outputs": [],
   "source": [
    "import pandas as pd\n",
    "import numpy as np\n",
    "import matplotlib.pyplot as plt\n",
    "import seaborn as sns\n",
    "\n",
    "observations = pd.read_csv('observations.csv')\n",
    "species = pd.read_csv('species_info.csv')"
   ]
  },
  {
   "cell_type": "code",
   "execution_count": 37,
   "metadata": {},
   "outputs": [
    {
     "data": {
      "text/html": [
       "<div>\n",
       "<style scoped>\n",
       "    .dataframe tbody tr th:only-of-type {\n",
       "        vertical-align: middle;\n",
       "    }\n",
       "\n",
       "    .dataframe tbody tr th {\n",
       "        vertical-align: top;\n",
       "    }\n",
       "\n",
       "    .dataframe thead th {\n",
       "        text-align: right;\n",
       "    }\n",
       "</style>\n",
       "<table border=\"1\" class=\"dataframe\">\n",
       "  <thead>\n",
       "    <tr style=\"text-align: right;\">\n",
       "      <th></th>\n",
       "      <th>category</th>\n",
       "      <th>scientific_name</th>\n",
       "      <th>common_names</th>\n",
       "      <th>conservation_status</th>\n",
       "      <th>park_name</th>\n",
       "      <th>observations</th>\n",
       "    </tr>\n",
       "  </thead>\n",
       "  <tbody>\n",
       "    <tr>\n",
       "      <th>0</th>\n",
       "      <td>Vascular Plant</td>\n",
       "      <td>Abies bifolia</td>\n",
       "      <td>Rocky Mountain Alpine Fir</td>\n",
       "      <td>NaN</td>\n",
       "      <td>Bryce National Park</td>\n",
       "      <td>109</td>\n",
       "    </tr>\n",
       "    <tr>\n",
       "      <th>1</th>\n",
       "      <td>Vascular Plant</td>\n",
       "      <td>Abies bifolia</td>\n",
       "      <td>Rocky Mountain Alpine Fir</td>\n",
       "      <td>NaN</td>\n",
       "      <td>Yellowstone National Park</td>\n",
       "      <td>215</td>\n",
       "    </tr>\n",
       "    <tr>\n",
       "      <th>2</th>\n",
       "      <td>Vascular Plant</td>\n",
       "      <td>Abies bifolia</td>\n",
       "      <td>Rocky Mountain Alpine Fir</td>\n",
       "      <td>NaN</td>\n",
       "      <td>Great Smoky Mountains National Park</td>\n",
       "      <td>72</td>\n",
       "    </tr>\n",
       "    <tr>\n",
       "      <th>3</th>\n",
       "      <td>Vascular Plant</td>\n",
       "      <td>Abies bifolia</td>\n",
       "      <td>Rocky Mountain Alpine Fir</td>\n",
       "      <td>NaN</td>\n",
       "      <td>Yosemite National Park</td>\n",
       "      <td>136</td>\n",
       "    </tr>\n",
       "    <tr>\n",
       "      <th>4</th>\n",
       "      <td>Vascular Plant</td>\n",
       "      <td>Abies concolor</td>\n",
       "      <td>Balsam Fir, Colorado Fir, Concolor Fir, Silver...</td>\n",
       "      <td>NaN</td>\n",
       "      <td>Great Smoky Mountains National Park</td>\n",
       "      <td>101</td>\n",
       "    </tr>\n",
       "  </tbody>\n",
       "</table>\n",
       "</div>"
      ],
      "text/plain": [
       "         category scientific_name  \\\n",
       "0  Vascular Plant   Abies bifolia   \n",
       "1  Vascular Plant   Abies bifolia   \n",
       "2  Vascular Plant   Abies bifolia   \n",
       "3  Vascular Plant   Abies bifolia   \n",
       "4  Vascular Plant  Abies concolor   \n",
       "\n",
       "                                        common_names conservation_status  \\\n",
       "0                          Rocky Mountain Alpine Fir                 NaN   \n",
       "1                          Rocky Mountain Alpine Fir                 NaN   \n",
       "2                          Rocky Mountain Alpine Fir                 NaN   \n",
       "3                          Rocky Mountain Alpine Fir                 NaN   \n",
       "4  Balsam Fir, Colorado Fir, Concolor Fir, Silver...                 NaN   \n",
       "\n",
       "                             park_name  observations  \n",
       "0                  Bryce National Park           109  \n",
       "1            Yellowstone National Park           215  \n",
       "2  Great Smoky Mountains National Park            72  \n",
       "3               Yosemite National Park           136  \n",
       "4  Great Smoky Mountains National Park           101  "
      ]
     },
     "execution_count": 37,
     "metadata": {},
     "output_type": "execute_result"
    }
   ],
   "source": [
    "biodiversity = species.merge(right = observations, how = 'outer', on = 'scientific_name')\n",
    "biodiversity.head()"
   ]
  },
  {
   "cell_type": "code",
   "execution_count": 38,
   "metadata": {},
   "outputs": [
    {
     "name": "stdout",
     "output_type": "stream",
     "text": [
      "<class 'pandas.core.frame.DataFrame'>\n",
      "RangeIndex: 25632 entries, 0 to 25631\n",
      "Data columns (total 6 columns):\n",
      " #   Column               Non-Null Count  Dtype \n",
      "---  ------               --------------  ----- \n",
      " 0   category             25632 non-null  object\n",
      " 1   scientific_name      25632 non-null  object\n",
      " 2   common_names         25632 non-null  object\n",
      " 3   conservation_status  880 non-null    object\n",
      " 4   park_name            25632 non-null  object\n",
      " 5   observations         25632 non-null  int64 \n",
      "dtypes: int64(1), object(5)\n",
      "memory usage: 1.2+ MB\n"
     ]
    }
   ],
   "source": [
    "biodiversity.info()"
   ]
  },
  {
   "cell_type": "code",
   "execution_count": null,
   "metadata": {},
   "outputs": [],
   "source": []
  }
 ],
 "metadata": {
  "kernelspec": {
   "display_name": "Python 3",
   "language": "python",
   "name": "python3"
  },
  "language_info": {
   "codemirror_mode": {
    "name": "ipython",
    "version": 3
   },
   "file_extension": ".py",
   "mimetype": "text/x-python",
   "name": "python",
   "nbconvert_exporter": "python",
   "pygments_lexer": "ipython3",
   "version": "3.12.4"
  }
 },
 "nbformat": 4,
 "nbformat_minor": 4
}
